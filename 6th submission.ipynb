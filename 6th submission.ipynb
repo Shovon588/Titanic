{
 "cells": [
  {
   "cell_type": "code",
   "execution_count": 205,
   "metadata": {},
   "outputs": [],
   "source": [
    "import pandas as pd\n",
    "import os\n",
    "from sklearn.model_selection import train_test_split, GridSearchCV\n",
    "from sklearn.tree import DecisionTreeClassifier\n",
    "from sklearn.metrics import accuracy_score, confusion_matrix\n",
    "from sklearn.impute import SimpleImputer\n",
    "from sklearn.preprocessing import LabelEncoder, OneHotEncoder\n",
    "from sklearn.ensemble import RandomForestClassifier\n",
    "from sklearn.svm import SVC"
   ]
  },
  {
   "cell_type": "code",
   "execution_count": 165,
   "metadata": {},
   "outputs": [],
   "source": [
    "train_path = \"H:\\\\Hobby\\\\ML Dataset\\\\titanic\\\\train.csv\"\n",
    "test_path = \"H:\\\\Hobby\\\\ML Dataset\\\\titanic\\\\test.csv\""
   ]
  },
  {
   "cell_type": "code",
   "execution_count": 166,
   "metadata": {},
   "outputs": [],
   "source": [
    "train = pd.read_csv(train_path)\n",
    "test = pd.read_csv(test_path)\n",
    "\n",
    "\n",
    "y=train['Survived']\n",
    "train=train.drop(['Survived','PassengerId', 'Ticket', 'Cabin'], axis=1)\n",
    "passID = test['PassengerId']\n",
    "test = test.drop(['PassengerId', 'Ticket', 'Cabin'], axis=1)"
   ]
  },
  {
   "cell_type": "code",
   "execution_count": 167,
   "metadata": {},
   "outputs": [],
   "source": [
    "train_test_data = [train, test] \n",
    "\n",
    "for dataset in train_test_data:\n",
    "    dataset['Title'] = dataset['Name'].str.extract(' ([A-Za-z]+)\\.', expand=False)\n",
    "\n",
    "title_mapping = {\"Mr\": \"Mr\",\"Mrs\": \"Mrs\", \"Miss\": \"Miss\" ,\"Master\": 'O', \"Dr\": 'O', \"Rev\": 'O', \"Col\": 'O', \"Major\": 'O', \"Mlle\": 'O',\"Countess\": 'O',\n",
    "                 \"Ms\": 'O', \"Lady\": 'O', \"Jonkheer\": 'O', \"Don\": 'O', \"Dona\" : 'O', \"Mme\": 'O',\"Capt\": 'O',\"Sir\": 'O' }\n",
    "\n",
    "for dataset in train_test_data:\n",
    "    dataset['Title'] = dataset['Title'].map(title_mapping)\n",
    "    dataset.drop(['Name'], axis=1, inplace=True)"
   ]
  },
  {
   "cell_type": "code",
   "execution_count": 168,
   "metadata": {},
   "outputs": [],
   "source": [
    "train['Embarked'] = train['Embarked'].fillna('S')\n",
    "\n",
    "embark = pd.get_dummies(train['Embarked'], drop_first=True)\n",
    "sex = pd.get_dummies(train['Sex'], drop_first=True)\n",
    "title = pd.get_dummies(train['Title'], drop_first=True)\n",
    "train = pd.concat([train, sex, embark, title], sort=False, axis=1)\n",
    "train.drop(['Embarked', 'Sex', 'Title'], axis=1, inplace=True)\n",
    "\n",
    "embark = pd.get_dummies(test['Embarked'], drop_first=True)\n",
    "sex = pd.get_dummies(test['Sex'], drop_first=True)\n",
    "title = pd.get_dummies(test['Title'], drop_first=True)\n",
    "test = pd.concat([test, sex, embark, title], sort=False, axis=1)\n",
    "test.drop(['Embarked', 'Sex', 'Title'], axis=1, inplace=True)"
   ]
  },
  {
   "cell_type": "code",
   "execution_count": 169,
   "metadata": {},
   "outputs": [
    {
     "data": {
      "text/plain": [
       "Index(['Pclass', 'Age', 'SibSp', 'Parch', 'Fare', 'male', 'Q', 'S', 'Mr',\n",
       "       'Mrs', 'O'],\n",
       "      dtype='object')"
      ]
     },
     "execution_count": 169,
     "metadata": {},
     "output_type": "execute_result"
    }
   ],
   "source": [
    "train.columns"
   ]
  },
  {
   "cell_type": "code",
   "execution_count": 170,
   "metadata": {},
   "outputs": [
    {
     "data": {
      "text/plain": [
       "Index(['Pclass', 'Age', 'SibSp', 'Parch', 'Fare', 'male', 'Q', 'S', 'Mr',\n",
       "       'Mrs', 'O'],\n",
       "      dtype='object')"
      ]
     },
     "execution_count": 170,
     "metadata": {},
     "output_type": "execute_result"
    }
   ],
   "source": [
    "train[train]"
   ]
  },
  {
   "cell_type": "code",
   "execution_count": 265,
   "metadata": {},
   "outputs": [],
   "source": [
    "# encoder = OneHotEncoder(handle_unknown='ignore', sparse=False)\n",
    "# OH_train = pd.DataFrame(encoder.fit_transform(train[cols]))\n",
    "# OH_test = pd.DataFrame(encoder.transform(test[cols]))"
   ]
  },
  {
   "cell_type": "code",
   "execution_count": 266,
   "metadata": {},
   "outputs": [],
   "source": [
    "# OH_train.index = train.index\n",
    "# OH_test.index = test.index"
   ]
  },
  {
   "cell_type": "code",
   "execution_count": 267,
   "metadata": {},
   "outputs": [],
   "source": [
    "# train = train.drop(cols, axis=1)\n",
    "# test = test.drop(cols, axis=1)\n",
    "\n",
    "# train = pd.concat([train, OH_train], axis=1)\n",
    "# test = pd.concat([test, OH_test], axis=1)"
   ]
  },
  {
   "cell_type": "code",
   "execution_count": 163,
   "metadata": {},
   "outputs": [
    {
     "data": {
      "text/plain": [
       "RangeIndex(start=0, stop=11, step=1)"
      ]
     },
     "execution_count": 163,
     "metadata": {},
     "output_type": "execute_result"
    }
   ],
   "source": [
    "train.columns"
   ]
  },
  {
   "cell_type": "code",
   "execution_count": 171,
   "metadata": {},
   "outputs": [],
   "source": [
    "imputer = SimpleImputer()\n",
    "\n",
    "temp = test.copy()\n",
    "\n",
    "\n",
    "train = pd.DataFrame(imputer.fit_transform(train))\n",
    "test = pd.DataFrame(imputer.transform(test))\n",
    "\n",
    "train.columns = temp.columns\n",
    "test.columns = temp.columns"
   ]
  },
  {
   "cell_type": "code",
   "execution_count": 173,
   "metadata": {},
   "outputs": [
    {
     "data": {
      "text/plain": [
       "Pclass    0\n",
       "Age       0\n",
       "SibSp     0\n",
       "Parch     0\n",
       "Fare      0\n",
       "male      0\n",
       "Q         0\n",
       "S         0\n",
       "Mr        0\n",
       "Mrs       0\n",
       "O         0\n",
       "dtype: int64"
      ]
     },
     "execution_count": 173,
     "metadata": {},
     "output_type": "execute_result"
    }
   ],
   "source": [
    "test.isnull().sum()"
   ]
  },
  {
   "cell_type": "code",
   "execution_count": 193,
   "metadata": {
    "scrolled": true
   },
   "outputs": [
    {
     "name": "stdout",
     "output_type": "stream",
     "text": [
      "0.7873134328358209\n"
     ]
    },
    {
     "data": {
      "text/plain": [
       "array([[133,  36],\n",
       "       [ 21,  78]], dtype=int64)"
      ]
     },
     "execution_count": 193,
     "metadata": {},
     "output_type": "execute_result"
    }
   ],
   "source": [
    "xTrain, xTest, yTrain, yTest = train_test_split(train, y, random_state=101, test_size=0.3)\n",
    "\n",
    "model = DecisionTreeClassifier()\n",
    "model.fit(xTrain, yTrain)\n",
    "preds = model.predict(xTest)\n",
    "\n",
    "print(accuracy_score(preds, yTest))\n",
    "confusion_matrix(preds, yTest)\n"
   ]
  },
  {
   "cell_type": "code",
   "execution_count": 235,
   "metadata": {},
   "outputs": [
    {
     "name": "stdout",
     "output_type": "stream",
     "text": [
      "0.8208955223880597\n"
     ]
    },
    {
     "data": {
      "text/plain": [
       "array([[141,  35],\n",
       "       [ 13,  79]], dtype=int64)"
      ]
     },
     "execution_count": 235,
     "metadata": {},
     "output_type": "execute_result"
    }
   ],
   "source": [
    "model = RandomForestClassifier(n_estimators=50, max_leaf_nodes=20)\n",
    "model.fit(xTrain, yTrain)\n",
    "preds = model.predict(xTest)\n",
    "print(accuracy_score(preds, yTest))\n",
    "confusion_matrix(preds, yTest)"
   ]
  },
  {
   "cell_type": "code",
   "execution_count": 215,
   "metadata": {},
   "outputs": [
    {
     "name": "stdout",
     "output_type": "stream",
     "text": [
      "Fitting 5 folds for each of 32 candidates, totalling 160 fits\n",
      "[CV] max_leaf_nodes=20, n_estimators=50 ..............................\n",
      "[CV] .. max_leaf_nodes=20, n_estimators=50, score=0.840, total=   0.2s"
     ]
    },
    {
     "name": "stderr",
     "output_type": "stream",
     "text": [
      "[Parallel(n_jobs=1)]: Using backend SequentialBackend with 1 concurrent workers.\n"
     ]
    },
    {
     "name": "stdout",
     "output_type": "stream",
     "text": [
      "\n",
      "[CV] max_leaf_nodes=20, n_estimators=50 ..............................\n",
      "[CV] .. max_leaf_nodes=20, n_estimators=50, score=0.856, total=   0.2s\n",
      "[CV] max_leaf_nodes=20, n_estimators=50 ..............................\n"
     ]
    },
    {
     "name": "stderr",
     "output_type": "stream",
     "text": [
      "[Parallel(n_jobs=1)]: Done   1 out of   1 | elapsed:    0.1s remaining:    0.0s\n",
      "[Parallel(n_jobs=1)]: Done   2 out of   2 | elapsed:    0.3s remaining:    0.0s\n"
     ]
    },
    {
     "name": "stdout",
     "output_type": "stream",
     "text": [
      "[CV] .. max_leaf_nodes=20, n_estimators=50, score=0.760, total=   0.2s\n",
      "[CV] max_leaf_nodes=20, n_estimators=50 ..............................\n",
      "[CV] .. max_leaf_nodes=20, n_estimators=50, score=0.839, total=   0.2s\n",
      "[CV] max_leaf_nodes=20, n_estimators=50 ..............................\n",
      "[CV] .. max_leaf_nodes=20, n_estimators=50, score=0.831, total=   0.2s\n",
      "[CV] max_leaf_nodes=20, n_estimators=100 .............................\n",
      "[CV] . max_leaf_nodes=20, n_estimators=100, score=0.832, total=   0.4s\n",
      "[CV] max_leaf_nodes=20, n_estimators=100 .............................\n",
      "[CV] . max_leaf_nodes=20, n_estimators=100, score=0.840, total=   0.4s\n",
      "[CV] max_leaf_nodes=20, n_estimators=100 .............................\n",
      "[CV] . max_leaf_nodes=20, n_estimators=100, score=0.752, total=   0.4s\n",
      "[CV] max_leaf_nodes=20, n_estimators=100 .............................\n",
      "[CV] . max_leaf_nodes=20, n_estimators=100, score=0.839, total=   0.4s\n",
      "[CV] max_leaf_nodes=20, n_estimators=100 .............................\n",
      "[CV] . max_leaf_nodes=20, n_estimators=100, score=0.823, total=   0.3s\n",
      "[CV] max_leaf_nodes=20, n_estimators=150 .............................\n",
      "[CV] . max_leaf_nodes=20, n_estimators=150, score=0.832, total=   0.6s\n",
      "[CV] max_leaf_nodes=20, n_estimators=150 .............................\n",
      "[CV] . max_leaf_nodes=20, n_estimators=150, score=0.856, total=   0.5s\n",
      "[CV] max_leaf_nodes=20, n_estimators=150 .............................\n",
      "[CV] . max_leaf_nodes=20, n_estimators=150, score=0.752, total=   0.5s\n",
      "[CV] max_leaf_nodes=20, n_estimators=150 .............................\n",
      "[CV] . max_leaf_nodes=20, n_estimators=150, score=0.831, total=   0.6s\n",
      "[CV] max_leaf_nodes=20, n_estimators=150 .............................\n",
      "[CV] . max_leaf_nodes=20, n_estimators=150, score=0.815, total=   0.5s\n",
      "[CV] max_leaf_nodes=20, n_estimators=200 .............................\n",
      "[CV] . max_leaf_nodes=20, n_estimators=200, score=0.824, total=   0.7s\n",
      "[CV] max_leaf_nodes=20, n_estimators=200 .............................\n",
      "[CV] . max_leaf_nodes=20, n_estimators=200, score=0.856, total=   0.7s\n",
      "[CV] max_leaf_nodes=20, n_estimators=200 .............................\n",
      "[CV] . max_leaf_nodes=20, n_estimators=200, score=0.752, total=   0.7s\n",
      "[CV] max_leaf_nodes=20, n_estimators=200 .............................\n",
      "[CV] . max_leaf_nodes=20, n_estimators=200, score=0.847, total=   0.7s\n",
      "[CV] max_leaf_nodes=20, n_estimators=200 .............................\n",
      "[CV] . max_leaf_nodes=20, n_estimators=200, score=0.831, total=   0.7s\n",
      "[CV] max_leaf_nodes=20, n_estimators=300 .............................\n",
      "[CV] . max_leaf_nodes=20, n_estimators=300, score=0.840, total=   1.1s\n",
      "[CV] max_leaf_nodes=20, n_estimators=300 .............................\n",
      "[CV] . max_leaf_nodes=20, n_estimators=300, score=0.856, total=   1.1s\n",
      "[CV] max_leaf_nodes=20, n_estimators=300 .............................\n",
      "[CV] . max_leaf_nodes=20, n_estimators=300, score=0.752, total=   1.1s\n",
      "[CV] max_leaf_nodes=20, n_estimators=300 .............................\n",
      "[CV] . max_leaf_nodes=20, n_estimators=300, score=0.847, total=   1.1s\n",
      "[CV] max_leaf_nodes=20, n_estimators=300 .............................\n",
      "[CV] . max_leaf_nodes=20, n_estimators=300, score=0.815, total=   1.1s\n",
      "[CV] max_leaf_nodes=20, n_estimators=400 .............................\n",
      "[CV] . max_leaf_nodes=20, n_estimators=400, score=0.824, total=   1.4s\n",
      "[CV] max_leaf_nodes=20, n_estimators=400 .............................\n",
      "[CV] . max_leaf_nodes=20, n_estimators=400, score=0.856, total=   1.5s\n",
      "[CV] max_leaf_nodes=20, n_estimators=400 .............................\n",
      "[CV] . max_leaf_nodes=20, n_estimators=400, score=0.752, total=   1.4s\n",
      "[CV] max_leaf_nodes=20, n_estimators=400 .............................\n",
      "[CV] . max_leaf_nodes=20, n_estimators=400, score=0.839, total=   1.4s\n",
      "[CV] max_leaf_nodes=20, n_estimators=400 .............................\n",
      "[CV] . max_leaf_nodes=20, n_estimators=400, score=0.815, total=   1.4s\n",
      "[CV] max_leaf_nodes=20, n_estimators=500 .............................\n",
      "[CV] . max_leaf_nodes=20, n_estimators=500, score=0.848, total=   1.7s\n",
      "[CV] max_leaf_nodes=20, n_estimators=500 .............................\n",
      "[CV] . max_leaf_nodes=20, n_estimators=500, score=0.856, total=   1.8s\n",
      "[CV] max_leaf_nodes=20, n_estimators=500 .............................\n",
      "[CV] . max_leaf_nodes=20, n_estimators=500, score=0.752, total=   2.0s\n",
      "[CV] max_leaf_nodes=20, n_estimators=500 .............................\n",
      "[CV] . max_leaf_nodes=20, n_estimators=500, score=0.839, total=   1.8s\n",
      "[CV] max_leaf_nodes=20, n_estimators=500 .............................\n",
      "[CV] . max_leaf_nodes=20, n_estimators=500, score=0.798, total=   1.8s\n",
      "[CV] max_leaf_nodes=20, n_estimators=1000 ............................\n",
      "[CV]  max_leaf_nodes=20, n_estimators=1000, score=0.832, total=   3.6s\n",
      "[CV] max_leaf_nodes=20, n_estimators=1000 ............................\n",
      "[CV]  max_leaf_nodes=20, n_estimators=1000, score=0.848, total=   3.4s\n",
      "[CV] max_leaf_nodes=20, n_estimators=1000 ............................\n",
      "[CV]  max_leaf_nodes=20, n_estimators=1000, score=0.752, total=   3.5s\n",
      "[CV] max_leaf_nodes=20, n_estimators=1000 ............................\n",
      "[CV]  max_leaf_nodes=20, n_estimators=1000, score=0.839, total=   3.7s\n",
      "[CV] max_leaf_nodes=20, n_estimators=1000 ............................\n",
      "[CV]  max_leaf_nodes=20, n_estimators=1000, score=0.815, total=   3.4s\n",
      "[CV] max_leaf_nodes=50, n_estimators=50 ..............................\n",
      "[CV] .. max_leaf_nodes=50, n_estimators=50, score=0.808, total=   0.2s\n",
      "[CV] max_leaf_nodes=50, n_estimators=50 ..............................\n",
      "[CV] .. max_leaf_nodes=50, n_estimators=50, score=0.832, total=   0.2s\n",
      "[CV] max_leaf_nodes=50, n_estimators=50 ..............................\n",
      "[CV] .. max_leaf_nodes=50, n_estimators=50, score=0.760, total=   0.2s\n",
      "[CV] max_leaf_nodes=50, n_estimators=50 ..............................\n",
      "[CV] .. max_leaf_nodes=50, n_estimators=50, score=0.839, total=   0.2s\n",
      "[CV] max_leaf_nodes=50, n_estimators=50 ..............................\n",
      "[CV] .. max_leaf_nodes=50, n_estimators=50, score=0.798, total=   0.2s\n",
      "[CV] max_leaf_nodes=50, n_estimators=100 .............................\n",
      "[CV] . max_leaf_nodes=50, n_estimators=100, score=0.832, total=   0.4s\n",
      "[CV] max_leaf_nodes=50, n_estimators=100 .............................\n",
      "[CV] . max_leaf_nodes=50, n_estimators=100, score=0.840, total=   0.4s\n",
      "[CV] max_leaf_nodes=50, n_estimators=100 .............................\n",
      "[CV] . max_leaf_nodes=50, n_estimators=100, score=0.752, total=   0.4s\n",
      "[CV] max_leaf_nodes=50, n_estimators=100 .............................\n",
      "[CV] . max_leaf_nodes=50, n_estimators=100, score=0.839, total=   0.4s\n",
      "[CV] max_leaf_nodes=50, n_estimators=100 .............................\n",
      "[CV] . max_leaf_nodes=50, n_estimators=100, score=0.806, total=   0.4s\n",
      "[CV] max_leaf_nodes=50, n_estimators=150 .............................\n",
      "[CV] . max_leaf_nodes=50, n_estimators=150, score=0.808, total=   0.6s\n",
      "[CV] max_leaf_nodes=50, n_estimators=150 .............................\n",
      "[CV] . max_leaf_nodes=50, n_estimators=150, score=0.832, total=   0.5s\n",
      "[CV] max_leaf_nodes=50, n_estimators=150 .............................\n",
      "[CV] . max_leaf_nodes=50, n_estimators=150, score=0.752, total=   0.5s\n",
      "[CV] max_leaf_nodes=50, n_estimators=150 .............................\n",
      "[CV] . max_leaf_nodes=50, n_estimators=150, score=0.831, total=   0.5s\n",
      "[CV] max_leaf_nodes=50, n_estimators=150 .............................\n",
      "[CV] . max_leaf_nodes=50, n_estimators=150, score=0.798, total=   0.5s\n",
      "[CV] max_leaf_nodes=50, n_estimators=200 .............................\n",
      "[CV] . max_leaf_nodes=50, n_estimators=200, score=0.792, total=   0.7s\n",
      "[CV] max_leaf_nodes=50, n_estimators=200 .............................\n",
      "[CV] . max_leaf_nodes=50, n_estimators=200, score=0.856, total=   0.7s\n",
      "[CV] max_leaf_nodes=50, n_estimators=200 .............................\n",
      "[CV] . max_leaf_nodes=50, n_estimators=200, score=0.752, total=   0.7s\n",
      "[CV] max_leaf_nodes=50, n_estimators=200 .............................\n",
      "[CV] . max_leaf_nodes=50, n_estimators=200, score=0.823, total=   0.8s\n",
      "[CV] max_leaf_nodes=50, n_estimators=200 .............................\n",
      "[CV] . max_leaf_nodes=50, n_estimators=200, score=0.815, total=   0.8s\n",
      "[CV] max_leaf_nodes=50, n_estimators=300 .............................\n"
     ]
    },
    {
     "name": "stdout",
     "output_type": "stream",
     "text": [
      "[CV] . max_leaf_nodes=50, n_estimators=300, score=0.808, total=   1.1s\n",
      "[CV] max_leaf_nodes=50, n_estimators=300 .............................\n",
      "[CV] . max_leaf_nodes=50, n_estimators=300, score=0.816, total=   1.1s\n",
      "[CV] max_leaf_nodes=50, n_estimators=300 .............................\n",
      "[CV] . max_leaf_nodes=50, n_estimators=300, score=0.752, total=   1.2s\n",
      "[CV] max_leaf_nodes=50, n_estimators=300 .............................\n",
      "[CV] . max_leaf_nodes=50, n_estimators=300, score=0.839, total=   1.1s\n",
      "[CV] max_leaf_nodes=50, n_estimators=300 .............................\n",
      "[CV] . max_leaf_nodes=50, n_estimators=300, score=0.798, total=   1.1s\n",
      "[CV] max_leaf_nodes=50, n_estimators=400 .............................\n",
      "[CV] . max_leaf_nodes=50, n_estimators=400, score=0.808, total=   1.5s\n",
      "[CV] max_leaf_nodes=50, n_estimators=400 .............................\n",
      "[CV] . max_leaf_nodes=50, n_estimators=400, score=0.856, total=   1.4s\n",
      "[CV] max_leaf_nodes=50, n_estimators=400 .............................\n",
      "[CV] . max_leaf_nodes=50, n_estimators=400, score=0.752, total=   1.5s\n",
      "[CV] max_leaf_nodes=50, n_estimators=400 .............................\n",
      "[CV] . max_leaf_nodes=50, n_estimators=400, score=0.831, total=   1.4s\n",
      "[CV] max_leaf_nodes=50, n_estimators=400 .............................\n",
      "[CV] . max_leaf_nodes=50, n_estimators=400, score=0.823, total=   1.4s\n",
      "[CV] max_leaf_nodes=50, n_estimators=500 .............................\n",
      "[CV] . max_leaf_nodes=50, n_estimators=500, score=0.824, total=   1.8s\n",
      "[CV] max_leaf_nodes=50, n_estimators=500 .............................\n",
      "[CV] . max_leaf_nodes=50, n_estimators=500, score=0.840, total=   1.8s\n",
      "[CV] max_leaf_nodes=50, n_estimators=500 .............................\n",
      "[CV] . max_leaf_nodes=50, n_estimators=500, score=0.752, total=   1.8s\n",
      "[CV] max_leaf_nodes=50, n_estimators=500 .............................\n",
      "[CV] . max_leaf_nodes=50, n_estimators=500, score=0.831, total=   1.8s\n",
      "[CV] max_leaf_nodes=50, n_estimators=500 .............................\n",
      "[CV] . max_leaf_nodes=50, n_estimators=500, score=0.815, total=   1.8s\n",
      "[CV] max_leaf_nodes=50, n_estimators=1000 ............................\n",
      "[CV]  max_leaf_nodes=50, n_estimators=1000, score=0.792, total=   3.5s\n",
      "[CV] max_leaf_nodes=50, n_estimators=1000 ............................\n",
      "[CV]  max_leaf_nodes=50, n_estimators=1000, score=0.840, total=   3.6s\n",
      "[CV] max_leaf_nodes=50, n_estimators=1000 ............................\n",
      "[CV]  max_leaf_nodes=50, n_estimators=1000, score=0.752, total=   3.5s\n",
      "[CV] max_leaf_nodes=50, n_estimators=1000 ............................\n",
      "[CV]  max_leaf_nodes=50, n_estimators=1000, score=0.831, total=   3.5s\n",
      "[CV] max_leaf_nodes=50, n_estimators=1000 ............................\n",
      "[CV]  max_leaf_nodes=50, n_estimators=1000, score=0.815, total=   3.9s\n",
      "[CV] max_leaf_nodes=100, n_estimators=50 .............................\n",
      "[CV] . max_leaf_nodes=100, n_estimators=50, score=0.792, total=   0.2s\n",
      "[CV] max_leaf_nodes=100, n_estimators=50 .............................\n",
      "[CV] . max_leaf_nodes=100, n_estimators=50, score=0.832, total=   0.2s\n",
      "[CV] max_leaf_nodes=100, n_estimators=50 .............................\n",
      "[CV] . max_leaf_nodes=100, n_estimators=50, score=0.752, total=   0.2s\n",
      "[CV] max_leaf_nodes=100, n_estimators=50 .............................\n",
      "[CV] . max_leaf_nodes=100, n_estimators=50, score=0.815, total=   0.2s\n",
      "[CV] max_leaf_nodes=100, n_estimators=50 .............................\n",
      "[CV] . max_leaf_nodes=100, n_estimators=50, score=0.831, total=   0.2s\n",
      "[CV] max_leaf_nodes=100, n_estimators=100 ............................\n",
      "[CV]  max_leaf_nodes=100, n_estimators=100, score=0.792, total=   0.4s\n",
      "[CV] max_leaf_nodes=100, n_estimators=100 ............................\n",
      "[CV]  max_leaf_nodes=100, n_estimators=100, score=0.832, total=   0.4s\n",
      "[CV] max_leaf_nodes=100, n_estimators=100 ............................\n",
      "[CV]  max_leaf_nodes=100, n_estimators=100, score=0.744, total=   0.4s\n",
      "[CV] max_leaf_nodes=100, n_estimators=100 ............................\n",
      "[CV]  max_leaf_nodes=100, n_estimators=100, score=0.806, total=   0.4s\n",
      "[CV] max_leaf_nodes=100, n_estimators=100 ............................\n",
      "[CV]  max_leaf_nodes=100, n_estimators=100, score=0.815, total=   0.4s\n",
      "[CV] max_leaf_nodes=100, n_estimators=150 ............................\n",
      "[CV]  max_leaf_nodes=100, n_estimators=150, score=0.800, total=   0.6s\n",
      "[CV] max_leaf_nodes=100, n_estimators=150 ............................\n",
      "[CV]  max_leaf_nodes=100, n_estimators=150, score=0.840, total=   0.6s\n",
      "[CV] max_leaf_nodes=100, n_estimators=150 ............................\n",
      "[CV]  max_leaf_nodes=100, n_estimators=150, score=0.744, total=   0.6s\n",
      "[CV] max_leaf_nodes=100, n_estimators=150 ............................\n",
      "[CV]  max_leaf_nodes=100, n_estimators=150, score=0.806, total=   0.6s\n",
      "[CV] max_leaf_nodes=100, n_estimators=150 ............................\n",
      "[CV]  max_leaf_nodes=100, n_estimators=150, score=0.815, total=   0.6s\n",
      "[CV] max_leaf_nodes=100, n_estimators=200 ............................\n",
      "[CV]  max_leaf_nodes=100, n_estimators=200, score=0.800, total=   0.8s\n",
      "[CV] max_leaf_nodes=100, n_estimators=200 ............................\n",
      "[CV]  max_leaf_nodes=100, n_estimators=200, score=0.832, total=   0.8s\n",
      "[CV] max_leaf_nodes=100, n_estimators=200 ............................\n",
      "[CV]  max_leaf_nodes=100, n_estimators=200, score=0.744, total=   0.7s\n",
      "[CV] max_leaf_nodes=100, n_estimators=200 ............................\n",
      "[CV]  max_leaf_nodes=100, n_estimators=200, score=0.806, total=   0.7s\n",
      "[CV] max_leaf_nodes=100, n_estimators=200 ............................\n",
      "[CV]  max_leaf_nodes=100, n_estimators=200, score=0.823, total=   0.8s\n",
      "[CV] max_leaf_nodes=100, n_estimators=300 ............................\n",
      "[CV]  max_leaf_nodes=100, n_estimators=300, score=0.800, total=   1.1s\n",
      "[CV] max_leaf_nodes=100, n_estimators=300 ............................\n",
      "[CV]  max_leaf_nodes=100, n_estimators=300, score=0.832, total=   1.1s\n",
      "[CV] max_leaf_nodes=100, n_estimators=300 ............................\n",
      "[CV]  max_leaf_nodes=100, n_estimators=300, score=0.744, total=   1.1s\n",
      "[CV] max_leaf_nodes=100, n_estimators=300 ............................\n",
      "[CV]  max_leaf_nodes=100, n_estimators=300, score=0.823, total=   1.1s\n",
      "[CV] max_leaf_nodes=100, n_estimators=300 ............................\n",
      "[CV]  max_leaf_nodes=100, n_estimators=300, score=0.806, total=   1.1s\n",
      "[CV] max_leaf_nodes=100, n_estimators=400 ............................\n",
      "[CV]  max_leaf_nodes=100, n_estimators=400, score=0.808, total=   1.6s\n",
      "[CV] max_leaf_nodes=100, n_estimators=400 ............................\n",
      "[CV]  max_leaf_nodes=100, n_estimators=400, score=0.824, total=   1.5s\n",
      "[CV] max_leaf_nodes=100, n_estimators=400 ............................\n",
      "[CV]  max_leaf_nodes=100, n_estimators=400, score=0.752, total=   1.5s\n",
      "[CV] max_leaf_nodes=100, n_estimators=400 ............................\n",
      "[CV]  max_leaf_nodes=100, n_estimators=400, score=0.806, total=   1.5s\n",
      "[CV] max_leaf_nodes=100, n_estimators=400 ............................\n",
      "[CV]  max_leaf_nodes=100, n_estimators=400, score=0.798, total=   1.5s\n",
      "[CV] max_leaf_nodes=100, n_estimators=500 ............................\n",
      "[CV]  max_leaf_nodes=100, n_estimators=500, score=0.800, total=   1.9s\n",
      "[CV] max_leaf_nodes=100, n_estimators=500 ............................\n",
      "[CV]  max_leaf_nodes=100, n_estimators=500, score=0.832, total=   2.0s\n",
      "[CV] max_leaf_nodes=100, n_estimators=500 ............................\n",
      "[CV]  max_leaf_nodes=100, n_estimators=500, score=0.752, total=   2.0s\n",
      "[CV] max_leaf_nodes=100, n_estimators=500 ............................\n",
      "[CV]  max_leaf_nodes=100, n_estimators=500, score=0.823, total=   1.9s\n",
      "[CV] max_leaf_nodes=100, n_estimators=500 ............................\n",
      "[CV]  max_leaf_nodes=100, n_estimators=500, score=0.806, total=   1.9s\n",
      "[CV] max_leaf_nodes=100, n_estimators=1000 ...........................\n",
      "[CV]  max_leaf_nodes=100, n_estimators=1000, score=0.800, total=   3.8s\n",
      "[CV] max_leaf_nodes=100, n_estimators=1000 ...........................\n",
      "[CV]  max_leaf_nodes=100, n_estimators=1000, score=0.832, total=   3.7s\n",
      "[CV] max_leaf_nodes=100, n_estimators=1000 ...........................\n",
      "[CV]  max_leaf_nodes=100, n_estimators=1000, score=0.752, total=   3.6s\n",
      "[CV] max_leaf_nodes=100, n_estimators=1000 ...........................\n"
     ]
    },
    {
     "name": "stdout",
     "output_type": "stream",
     "text": [
      "[CV]  max_leaf_nodes=100, n_estimators=1000, score=0.815, total=   3.7s\n",
      "[CV] max_leaf_nodes=100, n_estimators=1000 ...........................\n",
      "[CV]  max_leaf_nodes=100, n_estimators=1000, score=0.806, total=   4.0s\n",
      "[CV] max_leaf_nodes=150, n_estimators=50 .............................\n",
      "[CV] . max_leaf_nodes=150, n_estimators=50, score=0.792, total=   0.2s\n",
      "[CV] max_leaf_nodes=150, n_estimators=50 .............................\n",
      "[CV] . max_leaf_nodes=150, n_estimators=50, score=0.832, total=   0.3s\n",
      "[CV] max_leaf_nodes=150, n_estimators=50 .............................\n",
      "[CV] . max_leaf_nodes=150, n_estimators=50, score=0.744, total=   0.3s\n",
      "[CV] max_leaf_nodes=150, n_estimators=50 .............................\n",
      "[CV] . max_leaf_nodes=150, n_estimators=50, score=0.798, total=   0.2s\n",
      "[CV] max_leaf_nodes=150, n_estimators=50 .............................\n",
      "[CV] . max_leaf_nodes=150, n_estimators=50, score=0.823, total=   0.2s\n",
      "[CV] max_leaf_nodes=150, n_estimators=100 ............................\n",
      "[CV]  max_leaf_nodes=150, n_estimators=100, score=0.816, total=   0.4s\n",
      "[CV] max_leaf_nodes=150, n_estimators=100 ............................\n",
      "[CV]  max_leaf_nodes=150, n_estimators=100, score=0.840, total=   0.4s\n",
      "[CV] max_leaf_nodes=150, n_estimators=100 ............................\n",
      "[CV]  max_leaf_nodes=150, n_estimators=100, score=0.744, total=   0.4s\n",
      "[CV] max_leaf_nodes=150, n_estimators=100 ............................\n",
      "[CV]  max_leaf_nodes=150, n_estimators=100, score=0.798, total=   0.4s\n",
      "[CV] max_leaf_nodes=150, n_estimators=100 ............................\n",
      "[CV]  max_leaf_nodes=150, n_estimators=100, score=0.806, total=   0.4s\n",
      "[CV] max_leaf_nodes=150, n_estimators=150 ............................\n",
      "[CV]  max_leaf_nodes=150, n_estimators=150, score=0.800, total=   0.6s\n",
      "[CV] max_leaf_nodes=150, n_estimators=150 ............................\n",
      "[CV]  max_leaf_nodes=150, n_estimators=150, score=0.824, total=   0.6s\n",
      "[CV] max_leaf_nodes=150, n_estimators=150 ............................\n",
      "[CV]  max_leaf_nodes=150, n_estimators=150, score=0.744, total=   0.6s\n",
      "[CV] max_leaf_nodes=150, n_estimators=150 ............................\n",
      "[CV]  max_leaf_nodes=150, n_estimators=150, score=0.815, total=   0.6s\n",
      "[CV] max_leaf_nodes=150, n_estimators=150 ............................\n",
      "[CV]  max_leaf_nodes=150, n_estimators=150, score=0.815, total=   0.6s\n",
      "[CV] max_leaf_nodes=150, n_estimators=200 ............................\n",
      "[CV]  max_leaf_nodes=150, n_estimators=200, score=0.808, total=   0.8s\n",
      "[CV] max_leaf_nodes=150, n_estimators=200 ............................\n",
      "[CV]  max_leaf_nodes=150, n_estimators=200, score=0.824, total=   0.8s\n",
      "[CV] max_leaf_nodes=150, n_estimators=200 ............................\n",
      "[CV]  max_leaf_nodes=150, n_estimators=200, score=0.752, total=   0.8s\n",
      "[CV] max_leaf_nodes=150, n_estimators=200 ............................\n",
      "[CV]  max_leaf_nodes=150, n_estimators=200, score=0.798, total=   0.8s\n",
      "[CV] max_leaf_nodes=150, n_estimators=200 ............................\n",
      "[CV]  max_leaf_nodes=150, n_estimators=200, score=0.806, total=   0.8s\n",
      "[CV] max_leaf_nodes=150, n_estimators=300 ............................\n",
      "[CV]  max_leaf_nodes=150, n_estimators=300, score=0.800, total=   1.2s\n",
      "[CV] max_leaf_nodes=150, n_estimators=300 ............................\n",
      "[CV]  max_leaf_nodes=150, n_estimators=300, score=0.832, total=   1.2s\n",
      "[CV] max_leaf_nodes=150, n_estimators=300 ............................\n",
      "[CV]  max_leaf_nodes=150, n_estimators=300, score=0.752, total=   1.2s\n",
      "[CV] max_leaf_nodes=150, n_estimators=300 ............................\n",
      "[CV]  max_leaf_nodes=150, n_estimators=300, score=0.798, total=   1.2s\n",
      "[CV] max_leaf_nodes=150, n_estimators=300 ............................\n",
      "[CV]  max_leaf_nodes=150, n_estimators=300, score=0.790, total=   1.2s\n",
      "[CV] max_leaf_nodes=150, n_estimators=400 ............................\n",
      "[CV]  max_leaf_nodes=150, n_estimators=400, score=0.784, total=   1.6s\n",
      "[CV] max_leaf_nodes=150, n_estimators=400 ............................\n",
      "[CV]  max_leaf_nodes=150, n_estimators=400, score=0.832, total=   1.6s\n",
      "[CV] max_leaf_nodes=150, n_estimators=400 ............................\n",
      "[CV]  max_leaf_nodes=150, n_estimators=400, score=0.752, total=   1.5s\n",
      "[CV] max_leaf_nodes=150, n_estimators=400 ............................\n",
      "[CV]  max_leaf_nodes=150, n_estimators=400, score=0.815, total=   1.5s\n",
      "[CV] max_leaf_nodes=150, n_estimators=400 ............................\n",
      "[CV]  max_leaf_nodes=150, n_estimators=400, score=0.798, total=   1.5s\n",
      "[CV] max_leaf_nodes=150, n_estimators=500 ............................\n",
      "[CV]  max_leaf_nodes=150, n_estimators=500, score=0.792, total=   1.8s\n",
      "[CV] max_leaf_nodes=150, n_estimators=500 ............................\n",
      "[CV]  max_leaf_nodes=150, n_estimators=500, score=0.832, total=   2.0s\n",
      "[CV] max_leaf_nodes=150, n_estimators=500 ............................\n",
      "[CV]  max_leaf_nodes=150, n_estimators=500, score=0.728, total=   2.0s\n",
      "[CV] max_leaf_nodes=150, n_estimators=500 ............................\n",
      "[CV]  max_leaf_nodes=150, n_estimators=500, score=0.815, total=   1.9s\n",
      "[CV] max_leaf_nodes=150, n_estimators=500 ............................\n",
      "[CV]  max_leaf_nodes=150, n_estimators=500, score=0.823, total=   1.8s\n",
      "[CV] max_leaf_nodes=150, n_estimators=1000 ...........................\n",
      "[CV]  max_leaf_nodes=150, n_estimators=1000, score=0.800, total=   3.8s\n",
      "[CV] max_leaf_nodes=150, n_estimators=1000 ...........................\n",
      "[CV]  max_leaf_nodes=150, n_estimators=1000, score=0.832, total=   4.0s\n",
      "[CV] max_leaf_nodes=150, n_estimators=1000 ...........................\n",
      "[CV]  max_leaf_nodes=150, n_estimators=1000, score=0.744, total=   4.1s\n",
      "[CV] max_leaf_nodes=150, n_estimators=1000 ...........................\n",
      "[CV]  max_leaf_nodes=150, n_estimators=1000, score=0.806, total=   4.0s\n",
      "[CV] max_leaf_nodes=150, n_estimators=1000 ...........................\n",
      "[CV]  max_leaf_nodes=150, n_estimators=1000, score=0.798, total=   3.8s\n"
     ]
    },
    {
     "name": "stderr",
     "output_type": "stream",
     "text": [
      "[Parallel(n_jobs=1)]: Done 160 out of 160 | elapsed:  3.4min finished\n"
     ]
    },
    {
     "data": {
      "text/plain": [
       "GridSearchCV(cv=None, error_score=nan,\n",
       "             estimator=RandomForestClassifier(bootstrap=True, ccp_alpha=0.0,\n",
       "                                              class_weight=None,\n",
       "                                              criterion='gini', max_depth=None,\n",
       "                                              max_features='auto',\n",
       "                                              max_leaf_nodes=None,\n",
       "                                              max_samples=None,\n",
       "                                              min_impurity_decrease=0.0,\n",
       "                                              min_impurity_split=None,\n",
       "                                              min_samples_leaf=1,\n",
       "                                              min_samples_split=2,\n",
       "                                              min_weight_fraction_leaf=0.0,\n",
       "                                              n_estimators=100, n_jobs=None,\n",
       "                                              oob_score=False,\n",
       "                                              random_state=None, verbose=0,\n",
       "                                              warm_start=False),\n",
       "             iid='deprecated', n_jobs=None,\n",
       "             param_grid={'max_leaf_nodes': [20, 50, 100, 150],\n",
       "                         'n_estimators': [50, 100, 150, 200, 300, 400, 500,\n",
       "                                          1000]},\n",
       "             pre_dispatch='2*n_jobs', refit=True, return_train_score=False,\n",
       "             scoring=None, verbose=3)"
      ]
     },
     "execution_count": 215,
     "metadata": {},
     "output_type": "execute_result"
    }
   ],
   "source": [
    "param_grid = {'n_estimators': [50,100,150,200,300,400,500,1000],\n",
    "             'max_leaf_nodes': [20,50,100,150]}\n",
    "\n",
    "model = GridSearchCV(RandomForestClassifier(), param_grid, verbose=3)\n",
    "model.fit(xTrain, yTrain)"
   ]
  },
  {
   "cell_type": "code",
   "execution_count": 216,
   "metadata": {},
   "outputs": [
    {
     "data": {
      "text/plain": [
       "RandomForestClassifier(bootstrap=True, ccp_alpha=0.0, class_weight=None,\n",
       "                       criterion='gini', max_depth=None, max_features='auto',\n",
       "                       max_leaf_nodes=20, max_samples=None,\n",
       "                       min_impurity_decrease=0.0, min_impurity_split=None,\n",
       "                       min_samples_leaf=1, min_samples_split=2,\n",
       "                       min_weight_fraction_leaf=0.0, n_estimators=50,\n",
       "                       n_jobs=None, oob_score=False, random_state=None,\n",
       "                       verbose=0, warm_start=False)"
      ]
     },
     "execution_count": 216,
     "metadata": {},
     "output_type": "execute_result"
    }
   ],
   "source": [
    "model.best_estimator_"
   ]
  },
  {
   "cell_type": "code",
   "execution_count": 211,
   "metadata": {},
   "outputs": [
    {
     "name": "stdout",
     "output_type": "stream",
     "text": [
      "0.7723880597014925\n"
     ]
    },
    {
     "data": {
      "text/plain": [
       "array([[129,  36],\n",
       "       [ 25,  78]], dtype=int64)"
      ]
     },
     "execution_count": 211,
     "metadata": {},
     "output_type": "execute_result"
    }
   ],
   "source": [
    "model = SVC(C=100, gamma=0.0001)\n",
    "model.fit(xTrain, yTrain)\n",
    "preds = model.predict(xTest)\n",
    "print(accuracy_score(preds, yTest))\n",
    "\n",
    "confusion_matrix(preds, yTest)"
   ]
  },
  {
   "cell_type": "code",
   "execution_count": 208,
   "metadata": {},
   "outputs": [
    {
     "name": "stdout",
     "output_type": "stream",
     "text": [
      "Fitting 5 folds for each of 36 candidates, totalling 180 fits\n",
      "[CV] C=0.001, gamma=1 ................................................\n",
      "[CV] .................... C=0.001, gamma=1, score=0.632, total=   0.0s\n",
      "[CV] C=0.001, gamma=1 ................................................\n",
      "[CV] .................... C=0.001, gamma=1, score=0.632, total=   0.0s\n",
      "[CV] C=0.001, gamma=1 ................................................\n",
      "[CV] .................... C=0.001, gamma=1, score=0.632, total=   0.0s\n",
      "[CV] C=0.001, gamma=1 ................................................\n",
      "[CV] .................... C=0.001, gamma=1, score=0.637, total=   0.0s\n",
      "[CV] C=0.001, gamma=1 ................................................\n",
      "[CV] .................... C=0.001, gamma=1, score=0.637, total=   0.0s"
     ]
    },
    {
     "name": "stderr",
     "output_type": "stream",
     "text": [
      "[Parallel(n_jobs=1)]: Using backend SequentialBackend with 1 concurrent workers.\n",
      "[Parallel(n_jobs=1)]: Done   1 out of   1 | elapsed:    0.0s remaining:    0.0s\n",
      "[Parallel(n_jobs=1)]: Done   2 out of   2 | elapsed:    0.0s remaining:    0.0s\n"
     ]
    },
    {
     "name": "stdout",
     "output_type": "stream",
     "text": [
      "\n",
      "[CV] C=0.001, gamma=0.1 ..............................................\n",
      "[CV] .................. C=0.001, gamma=0.1, score=0.632, total=   0.0s\n",
      "[CV] C=0.001, gamma=0.1 ..............................................\n",
      "[CV] .................. C=0.001, gamma=0.1, score=0.632, total=   0.0s\n",
      "[CV] C=0.001, gamma=0.1 ..............................................\n",
      "[CV] .................. C=0.001, gamma=0.1, score=0.632, total=   0.0s\n",
      "[CV] C=0.001, gamma=0.1 ..............................................\n",
      "[CV] .................. C=0.001, gamma=0.1, score=0.637, total=   0.0s\n",
      "[CV] C=0.001, gamma=0.1 ..............................................\n",
      "[CV] .................. C=0.001, gamma=0.1, score=0.637, total=   0.0s\n",
      "[CV] C=0.001, gamma=0.01 .............................................\n",
      "[CV] ................. C=0.001, gamma=0.01, score=0.632, total=   0.0s\n",
      "[CV] C=0.001, gamma=0.01 .............................................\n",
      "[CV] ................. C=0.001, gamma=0.01, score=0.632, total=   0.0s\n",
      "[CV] C=0.001, gamma=0.01 .............................................\n",
      "[CV] ................. C=0.001, gamma=0.01, score=0.632, total=   0.0s\n",
      "[CV] C=0.001, gamma=0.01 .............................................\n",
      "[CV] ................. C=0.001, gamma=0.01, score=0.637, total=   0.0s\n",
      "[CV] C=0.001, gamma=0.01 .............................................\n",
      "[CV] ................. C=0.001, gamma=0.01, score=0.637, total=   0.0s\n",
      "[CV] C=0.001, gamma=0.001 ............................................\n",
      "[CV] ................ C=0.001, gamma=0.001, score=0.632, total=   0.0s\n",
      "[CV] C=0.001, gamma=0.001 ............................................\n",
      "[CV] ................ C=0.001, gamma=0.001, score=0.632, total=   0.0s\n",
      "[CV] C=0.001, gamma=0.001 ............................................\n",
      "[CV] ................ C=0.001, gamma=0.001, score=0.632, total=   0.0s\n",
      "[CV] C=0.001, gamma=0.001 ............................................\n",
      "[CV] ................ C=0.001, gamma=0.001, score=0.637, total=   0.0s\n",
      "[CV] C=0.001, gamma=0.001 ............................................\n",
      "[CV] ................ C=0.001, gamma=0.001, score=0.637, total=   0.0s\n",
      "[CV] C=0.001, gamma=0.0001 ...........................................\n",
      "[CV] ............... C=0.001, gamma=0.0001, score=0.632, total=   0.0s\n",
      "[CV] C=0.001, gamma=0.0001 ...........................................\n",
      "[CV] ............... C=0.001, gamma=0.0001, score=0.632, total=   0.0s\n",
      "[CV] C=0.001, gamma=0.0001 ...........................................\n",
      "[CV] ............... C=0.001, gamma=0.0001, score=0.632, total=   0.0s\n",
      "[CV] C=0.001, gamma=0.0001 ...........................................\n",
      "[CV] ............... C=0.001, gamma=0.0001, score=0.637, total=   0.0s\n",
      "[CV] C=0.001, gamma=0.0001 ...........................................\n",
      "[CV] ............... C=0.001, gamma=0.0001, score=0.637, total=   0.0s\n",
      "[CV] C=0.001, gamma=1e-05 ............................................\n",
      "[CV] ................ C=0.001, gamma=1e-05, score=0.632, total=   0.0s\n",
      "[CV] C=0.001, gamma=1e-05 ............................................\n",
      "[CV] ................ C=0.001, gamma=1e-05, score=0.632, total=   0.0s\n",
      "[CV] C=0.001, gamma=1e-05 ............................................\n",
      "[CV] ................ C=0.001, gamma=1e-05, score=0.632, total=   0.0s\n",
      "[CV] C=0.001, gamma=1e-05 ............................................\n",
      "[CV] ................ C=0.001, gamma=1e-05, score=0.637, total=   0.0s\n",
      "[CV] C=0.001, gamma=1e-05 ............................................\n",
      "[CV] ................ C=0.001, gamma=1e-05, score=0.637, total=   0.0s\n",
      "[CV] C=0.01, gamma=1 .................................................\n",
      "[CV] ..................... C=0.01, gamma=1, score=0.632, total=   0.0s\n",
      "[CV] C=0.01, gamma=1 .................................................\n",
      "[CV] ..................... C=0.01, gamma=1, score=0.632, total=   0.0s\n",
      "[CV] C=0.01, gamma=1 .................................................\n",
      "[CV] ..................... C=0.01, gamma=1, score=0.632, total=   0.1s\n",
      "[CV] C=0.01, gamma=1 .................................................\n",
      "[CV] ..................... C=0.01, gamma=1, score=0.637, total=   0.0s\n",
      "[CV] C=0.01, gamma=1 .................................................\n",
      "[CV] ..................... C=0.01, gamma=1, score=0.637, total=   0.0s\n",
      "[CV] C=0.01, gamma=0.1 ...............................................\n",
      "[CV] ................... C=0.01, gamma=0.1, score=0.632, total=   0.0s\n",
      "[CV] C=0.01, gamma=0.1 ...............................................\n",
      "[CV] ................... C=0.01, gamma=0.1, score=0.632, total=   0.0s\n",
      "[CV] C=0.01, gamma=0.1 ...............................................\n",
      "[CV] ................... C=0.01, gamma=0.1, score=0.632, total=   0.0s\n",
      "[CV] C=0.01, gamma=0.1 ...............................................\n",
      "[CV] ................... C=0.01, gamma=0.1, score=0.637, total=   0.0s\n",
      "[CV] C=0.01, gamma=0.1 ...............................................\n",
      "[CV] ................... C=0.01, gamma=0.1, score=0.637, total=   0.0s\n",
      "[CV] C=0.01, gamma=0.01 ..............................................\n",
      "[CV] .................. C=0.01, gamma=0.01, score=0.632, total=   0.0s\n",
      "[CV] C=0.01, gamma=0.01 ..............................................\n",
      "[CV] .................. C=0.01, gamma=0.01, score=0.632, total=   0.0s\n",
      "[CV] C=0.01, gamma=0.01 ..............................................\n",
      "[CV] .................. C=0.01, gamma=0.01, score=0.632, total=   0.0s\n",
      "[CV] C=0.01, gamma=0.01 ..............................................\n",
      "[CV] .................. C=0.01, gamma=0.01, score=0.637, total=   0.0s\n",
      "[CV] C=0.01, gamma=0.01 ..............................................\n",
      "[CV] .................. C=0.01, gamma=0.01, score=0.637, total=   0.0s\n",
      "[CV] C=0.01, gamma=0.001 .............................................\n",
      "[CV] ................. C=0.01, gamma=0.001, score=0.632, total=   0.0s\n",
      "[CV] C=0.01, gamma=0.001 .............................................\n",
      "[CV] ................. C=0.01, gamma=0.001, score=0.632, total=   0.0s\n",
      "[CV] C=0.01, gamma=0.001 .............................................\n",
      "[CV] ................. C=0.01, gamma=0.001, score=0.632, total=   0.0s\n",
      "[CV] C=0.01, gamma=0.001 .............................................\n",
      "[CV] ................. C=0.01, gamma=0.001, score=0.637, total=   0.0s\n",
      "[CV] C=0.01, gamma=0.001 .............................................\n",
      "[CV] ................. C=0.01, gamma=0.001, score=0.637, total=   0.0s\n",
      "[CV] C=0.01, gamma=0.0001 ............................................\n",
      "[CV] ................ C=0.01, gamma=0.0001, score=0.632, total=   0.0s\n",
      "[CV] C=0.01, gamma=0.0001 ............................................\n",
      "[CV] ................ C=0.01, gamma=0.0001, score=0.632, total=   0.0s\n",
      "[CV] C=0.01, gamma=0.0001 ............................................\n",
      "[CV] ................ C=0.01, gamma=0.0001, score=0.632, total=   0.0s\n",
      "[CV] C=0.01, gamma=0.0001 ............................................\n",
      "[CV] ................ C=0.01, gamma=0.0001, score=0.637, total=   0.0s\n",
      "[CV] C=0.01, gamma=0.0001 ............................................\n",
      "[CV] ................ C=0.01, gamma=0.0001, score=0.637, total=   0.0s\n",
      "[CV] C=0.01, gamma=1e-05 .............................................\n",
      "[CV] ................. C=0.01, gamma=1e-05, score=0.632, total=   0.0s\n",
      "[CV] C=0.01, gamma=1e-05 .............................................\n",
      "[CV] ................. C=0.01, gamma=1e-05, score=0.632, total=   0.0s\n",
      "[CV] C=0.01, gamma=1e-05 .............................................\n",
      "[CV] ................. C=0.01, gamma=1e-05, score=0.632, total=   0.0s\n",
      "[CV] C=0.01, gamma=1e-05 .............................................\n",
      "[CV] ................. C=0.01, gamma=1e-05, score=0.637, total=   0.0s\n",
      "[CV] C=0.01, gamma=1e-05 .............................................\n",
      "[CV] ................. C=0.01, gamma=1e-05, score=0.637, total=   0.0s\n",
      "[CV] C=0.1, gamma=1 ..................................................\n",
      "[CV] ...................... C=0.1, gamma=1, score=0.632, total=   0.0s\n",
      "[CV] C=0.1, gamma=1 ..................................................\n",
      "[CV] ...................... C=0.1, gamma=1, score=0.632, total=   0.0s\n",
      "[CV] C=0.1, gamma=1 ..................................................\n",
      "[CV] ...................... C=0.1, gamma=1, score=0.632, total=   0.0s\n",
      "[CV] C=0.1, gamma=1 ..................................................\n",
      "[CV] ...................... C=0.1, gamma=1, score=0.637, total=   0.0s\n",
      "[CV] C=0.1, gamma=1 ..................................................\n"
     ]
    },
    {
     "name": "stdout",
     "output_type": "stream",
     "text": [
      "[CV] ...................... C=0.1, gamma=1, score=0.637, total=   0.0s\n",
      "[CV] C=0.1, gamma=0.1 ................................................\n",
      "[CV] .................... C=0.1, gamma=0.1, score=0.632, total=   0.0s\n",
      "[CV] C=0.1, gamma=0.1 ................................................\n",
      "[CV] .................... C=0.1, gamma=0.1, score=0.632, total=   0.0s\n",
      "[CV] C=0.1, gamma=0.1 ................................................\n",
      "[CV] .................... C=0.1, gamma=0.1, score=0.632, total=   0.0s\n",
      "[CV] C=0.1, gamma=0.1 ................................................\n",
      "[CV] .................... C=0.1, gamma=0.1, score=0.637, total=   0.0s\n",
      "[CV] C=0.1, gamma=0.1 ................................................\n",
      "[CV] .................... C=0.1, gamma=0.1, score=0.637, total=   0.0s\n",
      "[CV] C=0.1, gamma=0.01 ...............................................\n",
      "[CV] ................... C=0.1, gamma=0.01, score=0.632, total=   0.0s\n",
      "[CV] C=0.1, gamma=0.01 ...............................................\n",
      "[CV] ................... C=0.1, gamma=0.01, score=0.640, total=   0.0s\n",
      "[CV] C=0.1, gamma=0.01 ...............................................\n",
      "[CV] ................... C=0.1, gamma=0.01, score=0.624, total=   0.0s\n",
      "[CV] C=0.1, gamma=0.01 ...............................................\n",
      "[CV] ................... C=0.1, gamma=0.01, score=0.645, total=   0.0s\n",
      "[CV] C=0.1, gamma=0.01 ...............................................\n",
      "[CV] ................... C=0.1, gamma=0.01, score=0.637, total=   0.0s\n",
      "[CV] C=0.1, gamma=0.001 ..............................................\n",
      "[CV] .................. C=0.1, gamma=0.001, score=0.656, total=   0.0s\n",
      "[CV] C=0.1, gamma=0.001 ..............................................\n",
      "[CV] .................. C=0.1, gamma=0.001, score=0.664, total=   0.0s\n",
      "[CV] C=0.1, gamma=0.001 ..............................................\n",
      "[CV] .................. C=0.1, gamma=0.001, score=0.696, total=   0.0s\n",
      "[CV] C=0.1, gamma=0.001 ..............................................\n",
      "[CV] .................. C=0.1, gamma=0.001, score=0.710, total=   0.0s\n",
      "[CV] C=0.1, gamma=0.001 ..............................................\n",
      "[CV] .................. C=0.1, gamma=0.001, score=0.645, total=   0.0s\n",
      "[CV] C=0.1, gamma=0.0001 .............................................\n",
      "[CV] ................. C=0.1, gamma=0.0001, score=0.648, total=   0.0s\n",
      "[CV] C=0.1, gamma=0.0001 .............................................\n",
      "[CV] ................. C=0.1, gamma=0.0001, score=0.680, total=   0.0s\n",
      "[CV] C=0.1, gamma=0.0001 .............................................\n",
      "[CV] ................. C=0.1, gamma=0.0001, score=0.688, total=   0.0s\n",
      "[CV] C=0.1, gamma=0.0001 .............................................\n",
      "[CV] ................. C=0.1, gamma=0.0001, score=0.685, total=   0.0s\n",
      "[CV] C=0.1, gamma=0.0001 .............................................\n",
      "[CV] ................. C=0.1, gamma=0.0001, score=0.629, total=   0.0s\n",
      "[CV] C=0.1, gamma=1e-05 ..............................................\n",
      "[CV] .................. C=0.1, gamma=1e-05, score=0.632, total=   0.0s\n",
      "[CV] C=0.1, gamma=1e-05 ..............................................\n",
      "[CV] .................. C=0.1, gamma=1e-05, score=0.632, total=   0.0s\n",
      "[CV] C=0.1, gamma=1e-05 ..............................................\n",
      "[CV] .................. C=0.1, gamma=1e-05, score=0.632, total=   0.0s\n",
      "[CV] C=0.1, gamma=1e-05 ..............................................\n",
      "[CV] .................. C=0.1, gamma=1e-05, score=0.637, total=   0.0s\n",
      "[CV] C=0.1, gamma=1e-05 ..............................................\n",
      "[CV] .................. C=0.1, gamma=1e-05, score=0.637, total=   0.0s\n",
      "[CV] C=1, gamma=1 ....................................................\n",
      "[CV] ........................ C=1, gamma=1, score=0.688, total=   0.0s\n",
      "[CV] C=1, gamma=1 ....................................................\n",
      "[CV] ........................ C=1, gamma=1, score=0.664, total=   0.0s\n",
      "[CV] C=1, gamma=1 ....................................................\n",
      "[CV] ........................ C=1, gamma=1, score=0.640, total=   0.0s\n",
      "[CV] C=1, gamma=1 ....................................................\n",
      "[CV] ........................ C=1, gamma=1, score=0.694, total=   0.0s\n",
      "[CV] C=1, gamma=1 ....................................................\n",
      "[CV] ........................ C=1, gamma=1, score=0.661, total=   0.0s\n",
      "[CV] C=1, gamma=0.1 ..................................................\n",
      "[CV] ...................... C=1, gamma=0.1, score=0.720, total=   0.0s\n",
      "[CV] C=1, gamma=0.1 ..................................................\n",
      "[CV] ...................... C=1, gamma=0.1, score=0.696, total=   0.0s\n",
      "[CV] C=1, gamma=0.1 ..................................................\n",
      "[CV] ...................... C=1, gamma=0.1, score=0.632, total=   0.0s\n",
      "[CV] C=1, gamma=0.1 ..................................................\n",
      "[CV] ...................... C=1, gamma=0.1, score=0.742, total=   0.0s\n",
      "[CV] C=1, gamma=0.1 ..................................................\n",
      "[CV] ...................... C=1, gamma=0.1, score=0.766, total=   0.0s\n",
      "[CV] C=1, gamma=0.01 .................................................\n",
      "[CV] ..................... C=1, gamma=0.01, score=0.680, total=   0.0s\n",
      "[CV] C=1, gamma=0.01 .................................................\n",
      "[CV] ..................... C=1, gamma=0.01, score=0.688, total=   0.0s\n",
      "[CV] C=1, gamma=0.01 .................................................\n",
      "[CV] ..................... C=1, gamma=0.01, score=0.696, total=   0.0s\n",
      "[CV] C=1, gamma=0.01 .................................................\n",
      "[CV] ..................... C=1, gamma=0.01, score=0.742, total=   0.0s\n",
      "[CV] C=1, gamma=0.01 .................................................\n",
      "[CV] ..................... C=1, gamma=0.01, score=0.790, total=   0.0s\n",
      "[CV] C=1, gamma=0.001 ................................................\n",
      "[CV] .................... C=1, gamma=0.001, score=0.672, total=   0.0s\n",
      "[CV] C=1, gamma=0.001 ................................................\n",
      "[CV] .................... C=1, gamma=0.001, score=0.672, total=   0.0s\n",
      "[CV] C=1, gamma=0.001 ................................................\n",
      "[CV] .................... C=1, gamma=0.001, score=0.712, total=   0.0s\n",
      "[CV] C=1, gamma=0.001 ................................................\n",
      "[CV] .................... C=1, gamma=0.001, score=0.734, total=   0.0s\n",
      "[CV] C=1, gamma=0.001 ................................................\n",
      "[CV] .................... C=1, gamma=0.001, score=0.694, total=   0.0s\n",
      "[CV] C=1, gamma=0.0001 ...............................................\n",
      "[CV] ................... C=1, gamma=0.0001, score=0.640, total=   0.0s\n",
      "[CV] C=1, gamma=0.0001 ...............................................\n",
      "[CV] ................... C=1, gamma=0.0001, score=0.648, total=   0.0s\n",
      "[CV] C=1, gamma=0.0001 ...............................................\n",
      "[CV] ................... C=1, gamma=0.0001, score=0.688, total=   0.0s\n",
      "[CV] C=1, gamma=0.0001 ...............................................\n",
      "[CV] ................... C=1, gamma=0.0001, score=0.726, total=   0.0s\n",
      "[CV] C=1, gamma=0.0001 ...............................................\n",
      "[CV] ................... C=1, gamma=0.0001, score=0.653, total=   0.0s\n",
      "[CV] C=1, gamma=1e-05 ................................................\n",
      "[CV] .................... C=1, gamma=1e-05, score=0.648, total=   0.0s\n",
      "[CV] C=1, gamma=1e-05 ................................................\n",
      "[CV] .................... C=1, gamma=1e-05, score=0.688, total=   0.0s\n",
      "[CV] C=1, gamma=1e-05 ................................................\n",
      "[CV] .................... C=1, gamma=1e-05, score=0.672, total=   0.0s\n",
      "[CV] C=1, gamma=1e-05 ................................................\n",
      "[CV] .................... C=1, gamma=1e-05, score=0.669, total=   0.0s\n",
      "[CV] C=1, gamma=1e-05 ................................................\n",
      "[CV] .................... C=1, gamma=1e-05, score=0.637, total=   0.0s\n",
      "[CV] C=10, gamma=1 ...................................................\n",
      "[CV] ....................... C=10, gamma=1, score=0.680, total=   0.0s\n",
      "[CV] C=10, gamma=1 ...................................................\n",
      "[CV] ....................... C=10, gamma=1, score=0.664, total=   0.0s\n",
      "[CV] C=10, gamma=1 ...................................................\n",
      "[CV] ....................... C=10, gamma=1, score=0.656, total=   0.0s\n",
      "[CV] C=10, gamma=1 ...................................................\n"
     ]
    },
    {
     "name": "stdout",
     "output_type": "stream",
     "text": [
      "[CV] ....................... C=10, gamma=1, score=0.694, total=   0.0s\n",
      "[CV] C=10, gamma=1 ...................................................\n",
      "[CV] ....................... C=10, gamma=1, score=0.645, total=   0.0s\n",
      "[CV] C=10, gamma=0.1 .................................................\n",
      "[CV] ..................... C=10, gamma=0.1, score=0.712, total=   0.0s\n",
      "[CV] C=10, gamma=0.1 .................................................\n",
      "[CV] ..................... C=10, gamma=0.1, score=0.712, total=   0.0s\n",
      "[CV] C=10, gamma=0.1 .................................................\n",
      "[CV] ..................... C=10, gamma=0.1, score=0.680, total=   0.0s\n",
      "[CV] C=10, gamma=0.1 .................................................\n",
      "[CV] ..................... C=10, gamma=0.1, score=0.766, total=   0.0s\n",
      "[CV] C=10, gamma=0.1 .................................................\n",
      "[CV] ..................... C=10, gamma=0.1, score=0.758, total=   0.0s\n",
      "[CV] C=10, gamma=0.01 ................................................\n",
      "[CV] .................... C=10, gamma=0.01, score=0.720, total=   0.0s\n",
      "[CV] C=10, gamma=0.01 ................................................\n",
      "[CV] .................... C=10, gamma=0.01, score=0.792, total=   0.0s\n",
      "[CV] C=10, gamma=0.01 ................................................\n",
      "[CV] .................... C=10, gamma=0.01, score=0.760, total=   0.0s\n",
      "[CV] C=10, gamma=0.01 ................................................\n",
      "[CV] .................... C=10, gamma=0.01, score=0.774, total=   0.0s\n",
      "[CV] C=10, gamma=0.01 ................................................\n",
      "[CV] .................... C=10, gamma=0.01, score=0.758, total=   0.0s\n",
      "[CV] C=10, gamma=0.001 ...............................................\n",
      "[CV] ................... C=10, gamma=0.001, score=0.752, total=   0.0s\n",
      "[CV] C=10, gamma=0.001 ...............................................\n",
      "[CV] ................... C=10, gamma=0.001, score=0.808, total=   0.0s\n",
      "[CV] C=10, gamma=0.001 ...............................................\n",
      "[CV] ................... C=10, gamma=0.001, score=0.768, total=   0.0s\n",
      "[CV] C=10, gamma=0.001 ...............................................\n",
      "[CV] ................... C=10, gamma=0.001, score=0.831, total=   0.0s\n",
      "[CV] C=10, gamma=0.001 ...............................................\n",
      "[CV] ................... C=10, gamma=0.001, score=0.766, total=   0.0s\n",
      "[CV] C=10, gamma=0.0001 ..............................................\n",
      "[CV] .................. C=10, gamma=0.0001, score=0.656, total=   0.0s\n",
      "[CV] C=10, gamma=0.0001 ..............................................\n",
      "[CV] .................. C=10, gamma=0.0001, score=0.704, total=   0.0s\n",
      "[CV] C=10, gamma=0.0001 ..............................................\n",
      "[CV] .................. C=10, gamma=0.0001, score=0.680, total=   0.0s\n",
      "[CV] C=10, gamma=0.0001 ..............................................\n",
      "[CV] .................. C=10, gamma=0.0001, score=0.750, total=   0.0s\n",
      "[CV] C=10, gamma=0.0001 ..............................................\n",
      "[CV] .................. C=10, gamma=0.0001, score=0.710, total=   0.0s\n",
      "[CV] C=10, gamma=1e-05 ...............................................\n",
      "[CV] ................... C=10, gamma=1e-05, score=0.640, total=   0.0s\n",
      "[CV] C=10, gamma=1e-05 ...............................................\n",
      "[CV] ................... C=10, gamma=1e-05, score=0.664, total=   0.0s\n",
      "[CV] C=10, gamma=1e-05 ...............................................\n",
      "[CV] ................... C=10, gamma=1e-05, score=0.680, total=   0.0s\n",
      "[CV] C=10, gamma=1e-05 ...............................................\n",
      "[CV] ................... C=10, gamma=1e-05, score=0.734, total=   0.0s\n",
      "[CV] C=10, gamma=1e-05 ...............................................\n",
      "[CV] ................... C=10, gamma=1e-05, score=0.645, total=   0.0s\n",
      "[CV] C=100, gamma=1 ..................................................\n",
      "[CV] ...................... C=100, gamma=1, score=0.680, total=   0.0s\n",
      "[CV] C=100, gamma=1 ..................................................\n",
      "[CV] ...................... C=100, gamma=1, score=0.648, total=   0.0s\n",
      "[CV] C=100, gamma=1 ..................................................\n",
      "[CV] ...................... C=100, gamma=1, score=0.656, total=   0.0s\n",
      "[CV] C=100, gamma=1 ..................................................\n",
      "[CV] ...................... C=100, gamma=1, score=0.685, total=   0.0s\n",
      "[CV] C=100, gamma=1 ..................................................\n",
      "[CV] ...................... C=100, gamma=1, score=0.629, total=   0.1s\n",
      "[CV] C=100, gamma=0.1 ................................................\n",
      "[CV] .................... C=100, gamma=0.1, score=0.704, total=   0.1s\n",
      "[CV] C=100, gamma=0.1 ................................................\n",
      "[CV] .................... C=100, gamma=0.1, score=0.704, total=   0.0s\n",
      "[CV] C=100, gamma=0.1 ................................................\n",
      "[CV] .................... C=100, gamma=0.1, score=0.696, total=   0.0s\n",
      "[CV] C=100, gamma=0.1 ................................................\n",
      "[CV] .................... C=100, gamma=0.1, score=0.750, total=   0.0s\n",
      "[CV] C=100, gamma=0.1 ................................................\n",
      "[CV] .................... C=100, gamma=0.1, score=0.734, total=   0.0s\n",
      "[CV] C=100, gamma=0.01 ...............................................\n",
      "[CV] ................... C=100, gamma=0.01, score=0.752, total=   0.1s\n",
      "[CV] C=100, gamma=0.01 ...............................................\n",
      "[CV] ................... C=100, gamma=0.01, score=0.784, total=   0.1s\n",
      "[CV] C=100, gamma=0.01 ...............................................\n",
      "[CV] ................... C=100, gamma=0.01, score=0.704, total=   0.1s\n",
      "[CV] C=100, gamma=0.01 ...............................................\n",
      "[CV] ................... C=100, gamma=0.01, score=0.782, total=   0.1s\n",
      "[CV] C=100, gamma=0.01 ...............................................\n",
      "[CV] ................... C=100, gamma=0.01, score=0.758, total=   0.1s\n",
      "[CV] C=100, gamma=0.001 ..............................................\n",
      "[CV] .................. C=100, gamma=0.001, score=0.792, total=   0.0s\n",
      "[CV] C=100, gamma=0.001 ..............................................\n",
      "[CV] .................. C=100, gamma=0.001, score=0.808, total=   0.0s\n",
      "[CV] C=100, gamma=0.001 ..............................................\n",
      "[CV] .................. C=100, gamma=0.001, score=0.736, total=   0.0s\n",
      "[CV] C=100, gamma=0.001 ..............................................\n",
      "[CV] .................. C=100, gamma=0.001, score=0.839, total=   0.0s\n",
      "[CV] C=100, gamma=0.001 ..............................................\n",
      "[CV] .................. C=100, gamma=0.001, score=0.774, total=   0.1s\n",
      "[CV] C=100, gamma=0.0001 .............................................\n",
      "[CV] ................. C=100, gamma=0.0001, score=0.808, total=   0.0s\n",
      "[CV] C=100, gamma=0.0001 .............................................\n",
      "[CV] ................. C=100, gamma=0.0001, score=0.824, total=   0.0s\n",
      "[CV] C=100, gamma=0.0001 .............................................\n",
      "[CV] ................. C=100, gamma=0.0001, score=0.784, total=   0.0s\n",
      "[CV] C=100, gamma=0.0001 .............................................\n",
      "[CV] ................. C=100, gamma=0.0001, score=0.839, total=   0.0s\n",
      "[CV] C=100, gamma=0.0001 .............................................\n",
      "[CV] ................. C=100, gamma=0.0001, score=0.790, total=   0.0s\n",
      "[CV] C=100, gamma=1e-05 ..............................................\n",
      "[CV] .................. C=100, gamma=1e-05, score=0.656, total=   0.0s\n",
      "[CV] C=100, gamma=1e-05 ..............................................\n",
      "[CV] .................. C=100, gamma=1e-05, score=0.712, total=   0.0s\n",
      "[CV] C=100, gamma=1e-05 ..............................................\n",
      "[CV] .................. C=100, gamma=1e-05, score=0.688, total=   0.0s\n",
      "[CV] C=100, gamma=1e-05 ..............................................\n",
      "[CV] .................. C=100, gamma=1e-05, score=0.742, total=   0.0s\n",
      "[CV] C=100, gamma=1e-05 ..............................................\n",
      "[CV] .................. C=100, gamma=1e-05, score=0.726, total=   0.0s\n"
     ]
    },
    {
     "name": "stderr",
     "output_type": "stream",
     "text": [
      "[Parallel(n_jobs=1)]: Done 180 out of 180 | elapsed:    6.0s finished\n"
     ]
    },
    {
     "data": {
      "text/plain": [
       "GridSearchCV(cv=None, error_score=nan,\n",
       "             estimator=SVC(C=1.0, break_ties=False, cache_size=200,\n",
       "                           class_weight=None, coef0=0.0,\n",
       "                           decision_function_shape='ovr', degree=3,\n",
       "                           gamma='scale', kernel='rbf', max_iter=-1,\n",
       "                           probability=False, random_state=None, shrinking=True,\n",
       "                           tol=0.001, verbose=False),\n",
       "             iid='deprecated', n_jobs=None,\n",
       "             param_grid={'C': [0.001, 0.01, 0.1, 1, 10, 100],\n",
       "                         'gamma': [1, 0.1, 0.01, 0.001, 0.0001, 1e-05]},\n",
       "             pre_dispatch='2*n_jobs', refit=True, return_train_score=False,\n",
       "             scoring=None, verbose=3)"
      ]
     },
     "execution_count": 208,
     "metadata": {},
     "output_type": "execute_result"
    }
   ],
   "source": [
    "param_grid = {'C': [0.001,0.01,0.1,1,10,100],\n",
    "             'gamma': [1,0.1,0.01,0.001,0.0001,0.00001]}\n",
    "\n",
    "model = GridSearchCV(SVC(), param_grid, verbose=3)\n",
    "model.fit(xTrain, yTrain)"
   ]
  },
  {
   "cell_type": "code",
   "execution_count": 210,
   "metadata": {},
   "outputs": [
    {
     "data": {
      "text/plain": [
       "SVC(C=100, break_ties=False, cache_size=200, class_weight=None, coef0=0.0,\n",
       "    decision_function_shape='ovr', degree=3, gamma=0.0001, kernel='rbf',\n",
       "    max_iter=-1, probability=False, random_state=None, shrinking=True,\n",
       "    tol=0.001, verbose=False)"
      ]
     },
     "execution_count": 210,
     "metadata": {},
     "output_type": "execute_result"
    }
   ],
   "source": [
    "model.best_estimator_\n"
   ]
  },
  {
   "cell_type": "code",
   "execution_count": 227,
   "metadata": {},
   "outputs": [],
   "source": [
    "model = RandomForestClassifier(n_estimators=50, max_leaf_nodes=20)\n",
    "model.fit(train, y)\n",
    "preds = model.predict(test)\n",
    "\n",
    "output = pd.DataFrame({'PassengerId': passID,\n",
    "                      'Survived': preds})\n",
    "\n",
    "output.to_csv('6thSubmission.csv', index=False)"
   ]
  }
 ],
 "metadata": {
  "kernelspec": {
   "display_name": "Python 3",
   "language": "python",
   "name": "python3"
  },
  "language_info": {
   "codemirror_mode": {
    "name": "ipython",
    "version": 3
   },
   "file_extension": ".py",
   "mimetype": "text/x-python",
   "name": "python",
   "nbconvert_exporter": "python",
   "pygments_lexer": "ipython3",
   "version": "3.8.2"
  }
 },
 "nbformat": 4,
 "nbformat_minor": 2
}
