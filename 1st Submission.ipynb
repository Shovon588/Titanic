{
 "cells": [
  {
   "cell_type": "code",
   "execution_count": 107,
   "metadata": {},
   "outputs": [],
   "source": [
    "import pandas as pd\n",
    "import os\n",
    "from sklearn.model_selection import train_test_split\n",
    "from sklearn.neighbors import KNeighborsClassifier\n",
    "from sklearn.metrics import accuracy_score\n",
    "from sklearn.impute import SimpleImputer"
   ]
  },
  {
   "cell_type": "code",
   "execution_count": 126,
   "metadata": {},
   "outputs": [],
   "source": [
    "train_path = \"H:\\\\Hobby\\\\ML Dataset\\\\titanic\\\\train.csv\"\n",
    "test_path = \"H:\\\\Hobby\\\\ML Dataset\\\\titanic\\\\test.csv\""
   ]
  },
  {
   "cell_type": "code",
   "execution_count": 127,
   "metadata": {},
   "outputs": [],
   "source": [
    "train = pd.read_csv(train_path)\n",
    "test = pd.read_csv(test_path)\n",
    "\n",
    "y=train['Survived']\n",
    "train=train.drop(['Survived','PassengerId'], axis=1)"
   ]
  },
  {
   "cell_type": "code",
   "execution_count": 128,
   "metadata": {},
   "outputs": [],
   "source": [
    "cols = (train.dtypes=='object')\n",
    "cols = list(cols[cols].index)\n",
    "\n",
    "train = train.drop(cols, axis=1)\n",
    "test = test.drop(cols, axis=1)"
   ]
  },
  {
   "cell_type": "code",
   "execution_count": 129,
   "metadata": {},
   "outputs": [],
   "source": [
    "imputer = SimpleImputer()\n",
    "\n",
    "temp = test.copy()\n",
    "test = test.drop(['PassengerId'], axis=1)\n",
    "temp_test = test.copy()\n",
    "\n",
    "train = pd.DataFrame(imputer.fit_transform(train))\n",
    "test = pd.DataFrame(imputer.transform(test))\n"
   ]
  },
  {
   "cell_type": "code",
   "execution_count": 133,
   "metadata": {},
   "outputs": [],
   "source": [
    "train.columns = temp_test.columns\n",
    "test.columns = temp_test.columns"
   ]
  },
  {
   "cell_type": "code",
   "execution_count": 134,
   "metadata": {},
   "outputs": [
    {
     "name": "stdout",
     "output_type": "stream",
     "text": [
      "0.600896860986547 1\n",
      "0.6860986547085202 3\n",
      "0.672645739910314 5\n",
      "0.6771300448430493 7\n",
      "0.6547085201793722 9\n",
      "0.6636771300448431 11\n",
      "0.672645739910314 13\n",
      "0.6547085201793722 15\n",
      "0.6547085201793722 17\n",
      "0.6771300448430493 19\n",
      "0.6681614349775785 21\n",
      "0.6681614349775785 23\n",
      "0.672645739910314 25\n",
      "0.6502242152466368 27\n",
      "0.6502242152466368 29\n"
     ]
    }
   ],
   "source": [
    "xTrain, xVal, yTrain, yVal = train_test_split(train, y)\n",
    "\n",
    "for x in range(1,31,2):\n",
    "    knn = KNeighborsClassifier(n_neighbors=x)\n",
    "    knn.fit(xTrain, yTrain)\n",
    "\n",
    "    preds = knn.predict(xVal)\n",
    "\n",
    "    print(accuracy_score(preds, yVal), x)"
   ]
  },
  {
   "cell_type": "code",
   "execution_count": 144,
   "metadata": {},
   "outputs": [],
   "source": [
    "knn= KNeighborsClassifier(n_neighbors=3)\n",
    "knn.fit(train, y)\n",
    "preds = knn.predict(test)\n",
    "\n",
    "output = pd.DataFrame({'PassengerId': temp.PassengerId,\n",
    "                      'Survived': preds})\n",
    "                      \n",
    "output.to_csv('1stSubmission.csv', index=False)"
   ]
  },
  {
   "cell_type": "code",
   "execution_count": null,
   "metadata": {},
   "outputs": [],
   "source": []
  }
 ],
 "metadata": {
  "kernelspec": {
   "display_name": "Python 3",
   "language": "python",
   "name": "python3"
  },
  "language_info": {
   "codemirror_mode": {
    "name": "ipython",
    "version": 3
   },
   "file_extension": ".py",
   "mimetype": "text/x-python",
   "name": "python",
   "nbconvert_exporter": "python",
   "pygments_lexer": "ipython3",
   "version": "3.6.8"
  }
 },
 "nbformat": 4,
 "nbformat_minor": 2
}
